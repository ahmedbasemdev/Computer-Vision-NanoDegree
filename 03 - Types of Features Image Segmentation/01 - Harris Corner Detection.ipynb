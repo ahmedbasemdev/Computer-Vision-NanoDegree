{
 "cells": [
  {
   "cell_type": "code",
   "execution_count": 3,
   "id": "d73a14f7-26a4-482e-b5fb-810decdd1344",
   "metadata": {},
   "outputs": [
    {
     "name": "stdout",
     "output_type": "stream",
     "text": [
      "G:\\Coding\\Computer Vision NanoDegree\\03 - Types of Features Image Segmentation\n"
     ]
    }
   ],
   "source": [
    "cd \"03 - Types of Features Image Segmentation\""
   ]
  },
  {
   "cell_type": "code",
   "execution_count": null,
   "id": "be321372-fccf-4751-a2be-43c50d9adcf2",
   "metadata": {},
   "outputs": [],
   "source": []
  }
 ],
 "metadata": {
  "kernelspec": {
   "display_name": "Python 3 (ipykernel)",
   "language": "python",
   "name": "python3"
  },
  "language_info": {
   "codemirror_mode": {
    "name": "ipython",
    "version": 3
   },
   "file_extension": ".py",
   "mimetype": "text/x-python",
   "name": "python",
   "nbconvert_exporter": "python",
   "pygments_lexer": "ipython3",
   "version": "3.9.13"
  }
 },
 "nbformat": 4,
 "nbformat_minor": 5
}
